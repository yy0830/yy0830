{
 "cells": [
  {
   "cell_type": "code",
   "execution_count": 20,
   "metadata": {},
   "outputs": [],
   "source": [
    "import pandas as pd\n",
    "from sklearn.model_selection import train_test_split\n",
    "from sklearn.model_selection import GridSearchCV\n",
    "from sklearn.ensemble import RandomForestRegressor\n",
    "from sklearn.ensemble import RandomForestClassifier\n",
    "import numpy as np\n",
    "from sklearn.preprocessing import StandardScaler\n",
    "from sklearn.preprocessing import MinMaxScaler\n",
    "from sklearn.linear_model import LinearRegression\n",
    "from sklearn.linear_model import RidgeCV\n",
    "from sklearn.linear_model import BayesianRidge\n",
    "from sklearn.ensemble import GradientBoostingRegressor,RandomForestRegressor,AdaBoostRegressor,ExtraTreesRegressor\n",
    "from xgboost import XGBRegressor\n",
    "from lightgbm import LGBMRegressor\n",
    "from sklearn.svm import SVR\n",
    "from sklearn.datasets import load_boston\n",
    "from sklearn.model_selection import KFold"
   ]
  },
  {
   "cell_type": "code",
   "execution_count": 21,
   "metadata": {},
   "outputs": [
    {
     "output_type": "execute_result",
     "data": {
      "text/plain": "354"
     },
     "metadata": {},
     "execution_count": 21
    }
   ],
   "source": [
    "x=load_boston().data\n",
    "y=load_boston().target\n",
    "x=MinMaxScaler().fit_transform(x)\n",
    "xtrain,xtest,ytrain,ytest=train_test_split(x,y,test_size=0.3,random_state=100)\n",
    "kf=KFold(n_splits=5,random_state=100)\n",
    "n_train=xtrain.shape[0]         #354个训练样本\n",
    "n_test=xtest.shape[0]           #152个测试样本\n",
    "n_train"
   ]
  },
  {
   "cell_type": "code",
   "execution_count": 22,
   "metadata": {},
   "outputs": [],
   "source": [
    "models=[RandomForestRegressor(n_estimators=300,random_state=100),GradientBoostingRegressor(n_estimators=300,random_state=100),LGBMRegressor(n_estimators=300,n_jobs=-1,random_state=100),RidgeCV(alphas=[0.0001,0.001,0.01,0.1,0.2,0.5,1,2,3,4,5,10,20,30,50]),LinearRegression(),SVR(kernel=\"rbf\"),SVR(kernel=\"linear\"),RandomForestRegressor(n_estimators=300,random_state=100),GradientBoostingRegressor(n_estimators=300,random_state=100),XGBRegressor(n_estimators=300),ExtraTreesRegressor(n_estimators=300,n_jobs=-1,random_state=100)]\n",
    "\n",
    "def get_oof(model,x_train,y_train,x_test):\n",
    "    oof_train=np.zeros((n_train,))     #构造一个1*354的一维0矩阵\n",
    "    oof_test=np.zeros((n_test,))       #构造一个1*152的一维0矩阵\n",
    "    oof_test_skf=np.zeros((5,n_test))  #5*152\n",
    "    for i,(train_index,test_index) in enumerate(kf.split(x_train)):\n",
    "        kf_x_train=x_train[train_index]              #每一折训练283个样本的X\n",
    "        kf_y_train=y_train[train_index]              #每一折训练283个样本的Y\n",
    "        kf_x_test=x_train[test_index]                #每一折的71测试样本的X\n",
    "        model=model.fit(kf_x_train,kf_y_train)\n",
    "        oof_train[test_index]=model.predict(kf_x_test)        #每次产生71个预测值，最终5折后成为堆叠成为1*354个训练样本的测试值\n",
    "        oof_test_skf[i,:]=model.predict(x_test)               #每次生成1*152的测试集预测值，填oof_test_skf[i，：]，五次以后填满形成5*152的预测值矩阵\n",
    "    oof_test[:]=oof_test_skf.mean(axis=0)            #把测试集的五次预测结果，求平均，形成一次预测结果\n",
    "    return oof_train,oof_test     #第一个返回值为第二层模型训练集的特征，1*354；第二个返回值为第一层模型对测试集数据的预测1*152，要作为第二层模型的训练集Xtest\n",
    "number_models=len(models)\n",
    "xtrain_new=np.zeros((n_train,number_models))\n",
    "xtest_new=np.zeros((n_test,number_models))\n",
    "for i,regressor in enumerate(models):\n",
    "    xtrain_new[:,i],xtest_new[:,i]=get_oof(regressor,xtrain,ytrain,xtest)"
   ]
  },
  {
   "cell_type": "code",
   "execution_count": 23,
   "metadata": {},
   "outputs": [
    {
     "output_type": "execute_result",
     "data": {
      "text/plain": "0.8571854937163985"
     },
     "metadata": {},
     "execution_count": 23
    }
   ],
   "source": [
    "reg=LinearRegression()\n",
    "reg=reg.fit(xtrain_new,ytrain)\n",
    "score=reg.score(xtest_new,ytest)\n",
    "score"
   ]
  },
  {
   "cell_type": "code",
   "execution_count": null,
   "metadata": {},
   "outputs": [],
   "source": []
  },
  {
   "cell_type": "code",
   "execution_count": null,
   "metadata": {},
   "outputs": [],
   "source": []
  }
 ],
 "metadata": {
  "language_info": {
   "codemirror_mode": {
    "name": "ipython",
    "version": 3
   },
   "file_extension": ".py",
   "mimetype": "text/x-python",
   "name": "python",
   "nbconvert_exporter": "python",
   "pygments_lexer": "ipython3",
   "version": "3.7.5-final"
  },
  "orig_nbformat": 2,
  "kernelspec": {
   "name": "python37564bit69ad59a2cafc4d7491c98dcecf44f866",
   "display_name": "Python 3.7.5 64-bit"
  }
 },
 "nbformat": 4,
 "nbformat_minor": 2
}